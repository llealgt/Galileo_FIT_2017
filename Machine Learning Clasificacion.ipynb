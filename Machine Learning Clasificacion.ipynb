{
 "cells": [
  {
   "cell_type": "markdown",
   "metadata": {},
   "source": [
    "### Vamos a hacer aprendizaje supervisado, especificamente clasificacion\n",
    "\n",
    "Usaremos un dataset que contiene caracteristicas de flores como el ancho y largo de sus petalos(esto sera X)\n",
    "Y por cada flor, tenemos a que especie pertenece(Y)\n",
    "\n",
    "Nuestro algoritmo tomara este dataset, y aprendera a identificar flores en funcion del largo y ancho de sus petalos\n",
    "sin que necesitemos especificarle reglas, el lo aprendera de los datos\n",
    "\n",
    "<img src=\"iris_dataset.jpg\">"
   ]
  },
  {
   "cell_type": "code",
   "execution_count": 1,
   "metadata": {
    "collapsed": true
   },
   "outputs": [],
   "source": [
    "from sklearn import datasets\n",
    "from sklearn.linear_model import LogisticRegression \n",
    "from sklearn import metrics"
   ]
  },
  {
   "cell_type": "code",
   "execution_count": 2,
   "metadata": {
    "collapsed": true
   },
   "outputs": [],
   "source": [
    "iris_data = datasets.load_iris()"
   ]
  },
  {
   "cell_type": "code",
   "execution_count": 3,
   "metadata": {},
   "outputs": [],
   "source": [
    "X_train = iris_data.data\n",
    "Y_train = iris_data.target"
   ]
  },
  {
   "cell_type": "code",
   "execution_count": 4,
   "metadata": {},
   "outputs": [
    {
     "data": {
      "text/plain": [
       "array([[ 5.1,  3.5,  1.4,  0.2],\n",
       "       [ 4.9,  3. ,  1.4,  0.2],\n",
       "       [ 4.7,  3.2,  1.3,  0.2],\n",
       "       [ 4.6,  3.1,  1.5,  0.2],\n",
       "       [ 5. ,  3.6,  1.4,  0.2],\n",
       "       [ 5.4,  3.9,  1.7,  0.4],\n",
       "       [ 4.6,  3.4,  1.4,  0.3],\n",
       "       [ 5. ,  3.4,  1.5,  0.2],\n",
       "       [ 4.4,  2.9,  1.4,  0.2],\n",
       "       [ 4.9,  3.1,  1.5,  0.1],\n",
       "       [ 5.4,  3.7,  1.5,  0.2],\n",
       "       [ 4.8,  3.4,  1.6,  0.2],\n",
       "       [ 4.8,  3. ,  1.4,  0.1],\n",
       "       [ 4.3,  3. ,  1.1,  0.1],\n",
       "       [ 5.8,  4. ,  1.2,  0.2]])"
      ]
     },
     "execution_count": 4,
     "metadata": {},
     "output_type": "execute_result"
    }
   ],
   "source": [
    "X_train[0:15]"
   ]
  },
  {
   "cell_type": "code",
   "execution_count": 5,
   "metadata": {},
   "outputs": [
    {
     "data": {
      "text/plain": [
       "array([0, 0, 0, 0, 0, 0, 0, 0, 0, 0, 0, 0, 0, 0, 0, 0, 0, 0, 0, 0, 0, 0, 0,\n",
       "       0, 0, 0, 0, 0, 0, 0, 0, 0, 0, 0, 0, 0, 0, 0, 0, 0, 0, 0, 0, 0, 0, 0,\n",
       "       0, 0, 0, 0, 1, 1, 1, 1, 1, 1, 1, 1, 1, 1, 1, 1, 1, 1, 1, 1, 1, 1, 1,\n",
       "       1, 1, 1, 1, 1, 1, 1, 1, 1, 1, 1, 1, 1, 1, 1, 1, 1, 1, 1, 1, 1, 1, 1,\n",
       "       1, 1, 1, 1, 1, 1, 1, 1, 2, 2, 2, 2, 2, 2, 2, 2, 2, 2, 2, 2, 2, 2, 2,\n",
       "       2, 2, 2, 2, 2, 2, 2, 2, 2, 2, 2, 2, 2, 2, 2, 2, 2, 2, 2, 2, 2, 2, 2,\n",
       "       2, 2, 2, 2, 2, 2, 2, 2, 2, 2, 2, 2])"
      ]
     },
     "execution_count": 5,
     "metadata": {},
     "output_type": "execute_result"
    }
   ],
   "source": [
    "Y_train"
   ]
  },
  {
   "cell_type": "code",
   "execution_count": 6,
   "metadata": {},
   "outputs": [
    {
     "data": {
      "text/plain": [
       "LogisticRegression(C=1.0, class_weight=None, dual=False, fit_intercept=True,\n",
       "          intercept_scaling=1, max_iter=100, multi_class='ovr', n_jobs=1,\n",
       "          penalty='l2', random_state=None, solver='liblinear', tol=0.0001,\n",
       "          verbose=0, warm_start=False)"
      ]
     },
     "execution_count": 6,
     "metadata": {},
     "output_type": "execute_result"
    }
   ],
   "source": [
    "logistic_classifier = LogisticRegression()\n",
    "logistic_classifier.fit(X_train,Y_train)"
   ]
  },
  {
   "cell_type": "code",
   "execution_count": 7,
   "metadata": {},
   "outputs": [],
   "source": [
    "train_prediction = logistic_classifier.predict(X_train)"
   ]
  },
  {
   "cell_type": "code",
   "execution_count": 8,
   "metadata": {},
   "outputs": [
    {
     "name": "stdout",
     "output_type": "stream",
     "text": [
      "Classification report for classifier LogisticRegression(C=1.0, class_weight=None, dual=False, fit_intercept=True,\n",
      "          intercept_scaling=1, max_iter=100, multi_class='ovr', n_jobs=1,\n",
      "          penalty='l2', random_state=None, solver='liblinear', tol=0.0001,\n",
      "          verbose=0, warm_start=False):\n",
      "             precision    recall  f1-score   support\n",
      "\n",
      "          0       1.00      1.00      1.00        50\n",
      "          1       0.98      0.90      0.94        50\n",
      "          2       0.91      0.98      0.94        50\n",
      "\n",
      "avg / total       0.96      0.96      0.96       150\n",
      "\n",
      "\n"
     ]
    }
   ],
   "source": [
    "print(\"Classification report for classifier %s:\\n%s\\n\"\n",
    "      % (logistic_classifier, metrics.classification_report(Y_train, train_prediction)))"
   ]
  },
  {
   "cell_type": "code",
   "execution_count": 9,
   "metadata": {},
   "outputs": [
    {
     "name": "stdout",
     "output_type": "stream",
     "text": [
      "Real: 0 Prediction [0]\n",
      "Real: 0 Prediction [0]\n",
      "Real: 0 Prediction [0]\n",
      "Real: 0 Prediction [0]\n",
      "Real: 0 Prediction [0]\n",
      "Real: 0 Prediction [0]\n",
      "Real: 0 Prediction [0]\n",
      "Real: 0 Prediction [0]\n",
      "Real: 0 Prediction [0]\n",
      "Real: 0 Prediction [0]\n",
      "Real: 0 Prediction [0]\n",
      "Real: 0 Prediction [0]\n",
      "Real: 0 Prediction [0]\n",
      "Real: 0 Prediction [0]\n",
      "Real: 0 Prediction [0]\n",
      "Real: 0 Prediction [0]\n",
      "Real: 0 Prediction [0]\n",
      "Real: 0 Prediction [0]\n",
      "Real: 0 Prediction [0]\n",
      "Real: 0 Prediction [0]\n",
      "Real: 0 Prediction [0]\n",
      "Real: 0 Prediction [0]\n",
      "Real: 0 Prediction [0]\n",
      "Real: 0 Prediction [0]\n",
      "Real: 0 Prediction [0]\n",
      "Real: 0 Prediction [0]\n",
      "Real: 0 Prediction [0]\n",
      "Real: 0 Prediction [0]\n",
      "Real: 0 Prediction [0]\n",
      "Real: 0 Prediction [0]\n",
      "Real: 0 Prediction [0]\n",
      "Real: 0 Prediction [0]\n",
      "Real: 0 Prediction [0]\n",
      "Real: 0 Prediction [0]\n",
      "Real: 0 Prediction [0]\n",
      "Real: 0 Prediction [0]\n",
      "Real: 0 Prediction [0]\n",
      "Real: 0 Prediction [0]\n",
      "Real: 0 Prediction [0]\n",
      "Real: 0 Prediction [0]\n",
      "Real: 0 Prediction [0]\n",
      "Real: 0 Prediction [0]\n",
      "Real: 0 Prediction [0]\n",
      "Real: 0 Prediction [0]\n",
      "Real: 0 Prediction [0]\n",
      "Real: 0 Prediction [0]\n",
      "Real: 0 Prediction [0]\n",
      "Real: 0 Prediction [0]\n",
      "Real: 0 Prediction [0]\n",
      "Real: 0 Prediction [0]\n",
      "Real: 1 Prediction [1]\n",
      "Real: 1 Prediction [1]\n",
      "Real: 1 Prediction [1]\n",
      "Real: 1 Prediction [1]\n",
      "Real: 1 Prediction [1]\n",
      "Real: 1 Prediction [1]\n",
      "Real: 1 Prediction [1]\n",
      "Real: 1 Prediction [1]\n",
      "Real: 1 Prediction [1]\n",
      "Real: 1 Prediction [1]\n",
      "Real: 1 Prediction [1]\n",
      "Real: 1 Prediction [1]\n",
      "Real: 1 Prediction [1]\n",
      "Real: 1 Prediction [1]\n",
      "Real: 1 Prediction [1]\n",
      "Real: 1 Prediction [1]\n",
      "Real: 1 Prediction [2]\n",
      "Real: 1 Prediction [1]\n",
      "Real: 1 Prediction [1]\n",
      "Real: 1 Prediction [1]\n",
      "Real: 1 Prediction [2]\n",
      "Real: 1 Prediction [1]\n",
      "Real: 1 Prediction [1]\n",
      "Real: 1 Prediction [1]\n",
      "Real: 1 Prediction [1]\n",
      "Real: 1 Prediction [1]\n",
      "Real: 1 Prediction [1]\n",
      "Real: 1 Prediction [1]\n",
      "Real: 1 Prediction [1]\n",
      "Real: 1 Prediction [1]\n",
      "Real: 1 Prediction [1]\n",
      "Real: 1 Prediction [1]\n",
      "Real: 1 Prediction [1]\n",
      "Real: 1 Prediction [2]\n",
      "Real: 1 Prediction [2]\n",
      "Real: 1 Prediction [2]\n",
      "Real: 1 Prediction [1]\n",
      "Real: 1 Prediction [1]\n",
      "Real: 1 Prediction [1]\n",
      "Real: 1 Prediction [1]\n",
      "Real: 1 Prediction [1]\n",
      "Real: 1 Prediction [1]\n",
      "Real: 1 Prediction [1]\n",
      "Real: 1 Prediction [1]\n",
      "Real: 1 Prediction [1]\n",
      "Real: 1 Prediction [1]\n",
      "Real: 1 Prediction [1]\n",
      "Real: 1 Prediction [1]\n",
      "Real: 1 Prediction [1]\n",
      "Real: 1 Prediction [1]\n",
      "Real: 2 Prediction [2]\n",
      "Real: 2 Prediction [2]\n",
      "Real: 2 Prediction [2]\n",
      "Real: 2 Prediction [2]\n",
      "Real: 2 Prediction [2]\n",
      "Real: 2 Prediction [2]\n",
      "Real: 2 Prediction [2]\n",
      "Real: 2 Prediction [2]\n",
      "Real: 2 Prediction [2]\n",
      "Real: 2 Prediction [2]\n",
      "Real: 2 Prediction [2]\n",
      "Real: 2 Prediction [2]\n",
      "Real: 2 Prediction [2]\n",
      "Real: 2 Prediction [2]\n",
      "Real: 2 Prediction [2]\n",
      "Real: 2 Prediction [2]\n",
      "Real: 2 Prediction [2]\n",
      "Real: 2 Prediction [2]\n",
      "Real: 2 Prediction [2]\n",
      "Real: 2 Prediction [2]\n",
      "Real: 2 Prediction [2]\n",
      "Real: 2 Prediction [2]\n",
      "Real: 2 Prediction [2]\n",
      "Real: 2 Prediction [2]\n",
      "Real: 2 Prediction [2]\n",
      "Real: 2 Prediction [2]\n",
      "Real: 2 Prediction [2]\n",
      "Real: 2 Prediction [2]\n",
      "Real: 2 Prediction [2]\n",
      "Real: 2 Prediction [1]\n",
      "Real: 2 Prediction [2]\n",
      "Real: 2 Prediction [2]\n",
      "Real: 2 Prediction [2]\n",
      "Real: 2 Prediction [2]\n",
      "Real: 2 Prediction [2]\n",
      "Real: 2 Prediction [2]\n",
      "Real: 2 Prediction [2]\n",
      "Real: 2 Prediction [2]\n",
      "Real: 2 Prediction [2]\n",
      "Real: 2 Prediction [2]\n",
      "Real: 2 Prediction [2]\n",
      "Real: 2 Prediction [2]\n",
      "Real: 2 Prediction [2]\n",
      "Real: 2 Prediction [2]\n",
      "Real: 2 Prediction [2]\n",
      "Real: 2 Prediction [2]\n",
      "Real: 2 Prediction [2]\n",
      "Real: 2 Prediction [2]\n",
      "Real: 2 Prediction [2]\n",
      "Real: 2 Prediction [2]\n"
     ]
    }
   ],
   "source": [
    "for i in range(len(Y_train)):\n",
    "    prediction = logistic_classifier.predict(X_train[i].reshape(1,-1))\n",
    "    real = Y_train[i]\n",
    "    print(\"Real:\",real,\"Prediction\",prediction)"
   ]
  },
  {
   "cell_type": "code",
   "execution_count": null,
   "metadata": {
    "collapsed": true
   },
   "outputs": [],
   "source": []
  }
 ],
 "metadata": {
  "kernelspec": {
   "display_name": "Python 3",
   "language": "python",
   "name": "python3"
  },
  "language_info": {
   "codemirror_mode": {
    "name": "ipython",
    "version": 3
   },
   "file_extension": ".py",
   "mimetype": "text/x-python",
   "name": "python",
   "nbconvert_exporter": "python",
   "pygments_lexer": "ipython3",
   "version": "3.6.2"
  }
 },
 "nbformat": 4,
 "nbformat_minor": 2
}
